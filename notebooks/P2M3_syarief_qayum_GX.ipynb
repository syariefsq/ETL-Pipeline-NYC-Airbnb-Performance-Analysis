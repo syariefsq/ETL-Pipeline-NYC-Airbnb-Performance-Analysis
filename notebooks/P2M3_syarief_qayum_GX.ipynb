{
 "cells": [
  {
   "cell_type": "markdown",
   "id": "c31c905a",
   "metadata": {},
   "source": [
    "## Introduction"
   ]
  },
  {
   "cell_type": "markdown",
   "id": "cc8c98b2",
   "metadata": {},
   "source": [
    "\n",
    "=================================================\n",
    "\n",
    "Milestone 3\n",
    "\n",
    "Nama  : Syarief Qayum Suaib \n",
    "\n",
    "Batch : FTDS-043-RMT\n",
    "\n",
    "Objective : Milestone 3 aims to evaluate understanding and application of data engineering and analysis tools and concepts learned in Phase 2, including Apache Airflow, Great Expectations, NoSQL databases (Elasticsearch), and data visualization with Kibana. The main task is to build a data pipeline that extracting data from PostgreSQL, cleans and validates it, and loads it into Elasticsearch for visualization using Kibana.\n",
    "\n",
    "================================================="
   ]
  },
  {
   "cell_type": "markdown",
   "id": "2d3bee08",
   "metadata": {},
   "source": [
    "## Import Libraries"
   ]
  },
  {
   "cell_type": "code",
   "execution_count": 1,
   "id": "471f2af1",
   "metadata": {},
   "outputs": [],
   "source": [
    "import pandas as pd\n",
    "import great_expectations as gx"
   ]
  },
  {
   "cell_type": "markdown",
   "id": "0f257106",
   "metadata": {},
   "source": [
    "## Data Loading"
   ]
  },
  {
   "cell_type": "markdown",
   "id": "e289f5b1",
   "metadata": {},
   "source": [
    "Loaded cleaned data from P2M3_syarief_qayum_cleaned.csv"
   ]
  },
  {
   "cell_type": "code",
   "execution_count": 2,
   "id": "5a6a0f5a",
   "metadata": {},
   "outputs": [
    {
     "name": "stdout",
     "output_type": "stream",
     "text": [
      "Loaded 102050 rows from cleaned CSV.\n",
      "Great Expectations Validator created.\n"
     ]
    }
   ],
   "source": [
    "# Load CSV cleaned data\n",
    "df_clean = pd.read_csv(\"P2M3_syarief_qayum_cleaned.csv\")\n",
    "print(f\"Loaded {len(df_clean)} rows from cleaned CSV.\")\n",
    "\n",
    "# Use the default context and read the dataset\n",
    "context = gx.get_context()  # Uses the default context \n",
    "validator = context.sources.pandas_default.read_dataframe(df_clean)\n",
    "print(\"Great Expectations Validator created.\")"
   ]
  },
  {
   "cell_type": "markdown",
   "id": "aa49de8e",
   "metadata": {},
   "source": [
    "## Great Expectations"
   ]
  },
  {
   "cell_type": "markdown",
   "id": "ca6385f7",
   "metadata": {},
   "source": [
    "We will conduct a data validation on the cleaned data using Great Expectation, this step is important to make sure the data that we used in this project meets our predefined quality standards before loaded for further analysis into Elasticsearch."
   ]
  },
  {
   "cell_type": "markdown",
   "id": "7599892d",
   "metadata": {},
   "source": [
    "### Expectation 1 - `expect_column_values_to_be_unique` (`id`)\n"
   ]
  },
  {
   "cell_type": "markdown",
   "id": "697915b5",
   "metadata": {},
   "source": [
    "The first expecatation is ``expect_column_values_to_be_unique` on the column (`id`). The purpose of this expectation is to ensure each listing in the column `id` is unique and represent single identifier or instance."
   ]
  },
  {
   "cell_type": "code",
   "execution_count": 4,
   "id": "928fca57",
   "metadata": {},
   "outputs": [
    {
     "data": {
      "application/vnd.jupyter.widget-view+json": {
       "model_id": "fe68c5a428b047e69778e7ddd7ece052",
       "version_major": 2,
       "version_minor": 0
      },
      "text/plain": [
       "Calculating Metrics:   0%|          | 0/8 [00:00<?, ?it/s]"
      ]
     },
     "metadata": {},
     "output_type": "display_data"
    },
    {
     "name": "stdout",
     "output_type": "stream",
     "text": [
      "{\n",
      "  \"success\": true,\n",
      "  \"expectation_config\": {\n",
      "    \"expectation_type\": \"expect_column_values_to_be_unique\",\n",
      "    \"kwargs\": {\n",
      "      \"column\": \"id\",\n",
      "      \"batch_id\": \"default_pandas_datasource-#ephemeral_pandas_asset\"\n",
      "    },\n",
      "    \"meta\": {}\n",
      "  },\n",
      "  \"result\": {\n",
      "    \"element_count\": 102050,\n",
      "    \"unexpected_count\": 0,\n",
      "    \"unexpected_percent\": 0.0,\n",
      "    \"partial_unexpected_list\": [],\n",
      "    \"missing_count\": 0,\n",
      "    \"missing_percent\": 0.0,\n",
      "    \"unexpected_percent_total\": 0.0,\n",
      "    \"unexpected_percent_nonmissing\": 0.0\n",
      "  },\n",
      "  \"meta\": {},\n",
      "  \"exception_info\": {\n",
      "    \"raised_exception\": false,\n",
      "    \"exception_traceback\": null,\n",
      "    \"exception_message\": null\n",
      "  }\n",
      "}\n"
     ]
    }
   ],
   "source": [
    "# Validate and Assert result\n",
    "\n",
    "results = validator.expect_column_values_to_be_unique(column=\"id\")\n",
    "print(results)\n",
    "assert results.success # Check if expectation passed"
   ]
  },
  {
   "cell_type": "markdown",
   "id": "463afb67",
   "metadata": {},
   "source": [
    "### Expectation 2 - `expect_column_values_to_be_between` (`price`)\n"
   ]
  },
  {
   "cell_type": "markdown",
   "id": "cf16c0de",
   "metadata": {},
   "source": [
    "The 2nd expecatation is `expect_column_values_to_be_between` on the column (`price`).\n",
    "The purpose of this expectation is to ensure each listing in the column `price` is between minimum value of 0 and maximum value of 30000 (USD).\n",
    "\n",
    "This will tell that the dataset falls in the range of actual pricing based on the dataset."
   ]
  },
  {
   "cell_type": "code",
   "execution_count": 5,
   "id": "d370aa49",
   "metadata": {},
   "outputs": [
    {
     "data": {
      "application/vnd.jupyter.widget-view+json": {
       "model_id": "d197baa4193e40e8acc1937af12bc1e0",
       "version_major": 2,
       "version_minor": 0
      },
      "text/plain": [
       "Calculating Metrics:   0%|          | 0/8 [00:00<?, ?it/s]"
      ]
     },
     "metadata": {},
     "output_type": "display_data"
    },
    {
     "name": "stdout",
     "output_type": "stream",
     "text": [
      "{\n",
      "  \"success\": true,\n",
      "  \"expectation_config\": {\n",
      "    \"expectation_type\": \"expect_column_values_to_be_between\",\n",
      "    \"kwargs\": {\n",
      "      \"column\": \"price\",\n",
      "      \"min_value\": 0,\n",
      "      \"max_value\": 30000,\n",
      "      \"batch_id\": \"default_pandas_datasource-#ephemeral_pandas_asset\"\n",
      "    },\n",
      "    \"meta\": {}\n",
      "  },\n",
      "  \"result\": {\n",
      "    \"element_count\": 102050,\n",
      "    \"unexpected_count\": 0,\n",
      "    \"unexpected_percent\": 0.0,\n",
      "    \"partial_unexpected_list\": [],\n",
      "    \"missing_count\": 0,\n",
      "    \"missing_percent\": 0.0,\n",
      "    \"unexpected_percent_total\": 0.0,\n",
      "    \"unexpected_percent_nonmissing\": 0.0\n",
      "  },\n",
      "  \"meta\": {},\n",
      "  \"exception_info\": {\n",
      "    \"raised_exception\": false,\n",
      "    \"exception_traceback\": null,\n",
      "    \"exception_message\": null\n",
      "  }\n",
      "}\n"
     ]
    }
   ],
   "source": [
    "# Validate and Assert result\n",
    "\n",
    "results = validator.expect_column_values_to_be_between(column=\"price\", min_value=0, max_value=30000)\n",
    "print(results)\n",
    "assert results.success"
   ]
  },
  {
   "cell_type": "markdown",
   "id": "2474bc6e",
   "metadata": {},
   "source": [
    "### Expectation 3 - `expect_column_values_to_be_in_set` (`room_type`)"
   ]
  },
  {
   "cell_type": "markdown",
   "id": "cb65f7fd",
   "metadata": {},
   "source": [
    "The 3rd expecatation is `expect_column_values_to_be_in_set` is on the column (`room_type`).\n",
    "The purpose of this expectation is to ensure each categories in the column `room_types` are amongst **\"Entire home/apt\", \"Private room\", \"Shared room\", \"Hotel room\"**\n",
    "\n",
    "This will tell that those categoires are exist within the column."
   ]
  },
  {
   "cell_type": "code",
   "execution_count": 6,
   "id": "4e542f9a",
   "metadata": {},
   "outputs": [
    {
     "data": {
      "application/vnd.jupyter.widget-view+json": {
       "model_id": "ead3d3a7354a4c4aadc48b531084320f",
       "version_major": 2,
       "version_minor": 0
      },
      "text/plain": [
       "Calculating Metrics:   0%|          | 0/8 [00:00<?, ?it/s]"
      ]
     },
     "metadata": {},
     "output_type": "display_data"
    },
    {
     "name": "stdout",
     "output_type": "stream",
     "text": [
      "{\n",
      "  \"success\": true,\n",
      "  \"expectation_config\": {\n",
      "    \"expectation_type\": \"expect_column_values_to_be_in_set\",\n",
      "    \"kwargs\": {\n",
      "      \"column\": \"room_type\",\n",
      "      \"value_set\": [\n",
      "        \"Entire home/apt\",\n",
      "        \"Private room\",\n",
      "        \"Shared room\",\n",
      "        \"Hotel room\"\n",
      "      ],\n",
      "      \"batch_id\": \"default_pandas_datasource-#ephemeral_pandas_asset\"\n",
      "    },\n",
      "    \"meta\": {}\n",
      "  },\n",
      "  \"result\": {\n",
      "    \"element_count\": 102050,\n",
      "    \"unexpected_count\": 0,\n",
      "    \"unexpected_percent\": 0.0,\n",
      "    \"partial_unexpected_list\": [],\n",
      "    \"missing_count\": 0,\n",
      "    \"missing_percent\": 0.0,\n",
      "    \"unexpected_percent_total\": 0.0,\n",
      "    \"unexpected_percent_nonmissing\": 0.0\n",
      "  },\n",
      "  \"meta\": {},\n",
      "  \"exception_info\": {\n",
      "    \"raised_exception\": false,\n",
      "    \"exception_traceback\": null,\n",
      "    \"exception_message\": null\n",
      "  }\n",
      "}\n"
     ]
    }
   ],
   "source": [
    "# Validate and Assert result\n",
    "\n",
    "expected_types = [\"Entire home/apt\", \"Private room\", \"Shared room\", \"Hotel room\"] \n",
    "results = validator.expect_column_values_to_be_in_set(column=\"room_type\", value_set=expected_types)\n",
    "print(results)\n",
    "assert results.success # Check if expectation passed"
   ]
  },
  {
   "cell_type": "markdown",
   "id": "fba5c613",
   "metadata": {},
   "source": [
    "### Expectation 4 - `expect_column_values_to_be_in_type_list` (`price`)"
   ]
  },
  {
   "cell_type": "markdown",
   "id": "c720db91",
   "metadata": {},
   "source": [
    "The 4th expecatation is `expect_column_values_to_be_in_type_list` on the column (`price`).\n",
    "The purpose of this expectation is to ensure the types of the dataset of `price` is indeed a **float**."
   ]
  },
  {
   "cell_type": "code",
   "execution_count": 7,
   "id": "85860395",
   "metadata": {},
   "outputs": [
    {
     "data": {
      "application/vnd.jupyter.widget-view+json": {
       "model_id": "515bddc821404f21afa3ac9d64fe7023",
       "version_major": 2,
       "version_minor": 0
      },
      "text/plain": [
       "Calculating Metrics:   0%|          | 0/1 [00:00<?, ?it/s]"
      ]
     },
     "metadata": {},
     "output_type": "display_data"
    },
    {
     "name": "stdout",
     "output_type": "stream",
     "text": [
      "{\n",
      "  \"success\": true,\n",
      "  \"expectation_config\": {\n",
      "    \"expectation_type\": \"expect_column_values_to_be_in_type_list\",\n",
      "    \"kwargs\": {\n",
      "      \"column\": \"price\",\n",
      "      \"type_list\": [\n",
      "        \"float\",\n",
      "        \"float64\"\n",
      "      ],\n",
      "      \"batch_id\": \"default_pandas_datasource-#ephemeral_pandas_asset\"\n",
      "    },\n",
      "    \"meta\": {}\n",
      "  },\n",
      "  \"result\": {\n",
      "    \"observed_value\": \"float64\"\n",
      "  },\n",
      "  \"meta\": {},\n",
      "  \"exception_info\": {\n",
      "    \"raised_exception\": false,\n",
      "    \"exception_traceback\": null,\n",
      "    \"exception_message\": null\n",
      "  }\n",
      "}\n"
     ]
    }
   ],
   "source": [
    "# Validate and Assert result\n",
    "\n",
    "results = validator.expect_column_values_to_be_in_type_list(column=\"price\", type_list=[\"float\", \"float64\"])\n",
    "print(results)\n",
    "assert results.success"
   ]
  },
  {
   "cell_type": "markdown",
   "id": "696f71cd",
   "metadata": {},
   "source": [
    "### Expectation 5 - Additional: `Expect_Column_Value_Lengths_To_Be_Between` (`house_rules`)"
   ]
  },
  {
   "cell_type": "markdown",
   "id": "6b21311d",
   "metadata": {},
   "source": [
    "The 5th expecatation is `expect_column_value_lengths_to_be_between` on the column (`house_rules`).\n",
    "The purpose of this expectation is to ensure the character length on the column `house_rules` doesn't exceed 2000 to prevent a really long input to the dataset."
   ]
  },
  {
   "cell_type": "code",
   "execution_count": 8,
   "id": "c7679c3a",
   "metadata": {},
   "outputs": [
    {
     "data": {
      "application/vnd.jupyter.widget-view+json": {
       "model_id": "12e77a4b15114d178b890dec7835d00f",
       "version_major": 2,
       "version_minor": 0
      },
      "text/plain": [
       "Calculating Metrics:   0%|          | 0/9 [00:00<?, ?it/s]"
      ]
     },
     "metadata": {},
     "output_type": "display_data"
    },
    {
     "name": "stdout",
     "output_type": "stream",
     "text": [
      "{\n",
      "  \"success\": true,\n",
      "  \"expectation_config\": {\n",
      "    \"expectation_type\": \"expect_column_value_lengths_to_be_between\",\n",
      "    \"kwargs\": {\n",
      "      \"column\": \"house_rules\",\n",
      "      \"min_value\": 0,\n",
      "      \"max_value\": 2000,\n",
      "      \"strict_max\": true,\n",
      "      \"batch_id\": \"default_pandas_datasource-#ephemeral_pandas_asset\"\n",
      "    },\n",
      "    \"meta\": {}\n",
      "  },\n",
      "  \"result\": {\n",
      "    \"element_count\": 102050,\n",
      "    \"unexpected_count\": 0,\n",
      "    \"unexpected_percent\": 0.0,\n",
      "    \"partial_unexpected_list\": [],\n",
      "    \"missing_count\": 51840,\n",
      "    \"missing_percent\": 50.798628123468895,\n",
      "    \"unexpected_percent_total\": 0.0,\n",
      "    \"unexpected_percent_nonmissing\": 0.0\n",
      "  },\n",
      "  \"meta\": {},\n",
      "  \"exception_info\": {\n",
      "    \"raised_exception\": false,\n",
      "    \"exception_traceback\": null,\n",
      "    \"exception_message\": null\n",
      "  }\n",
      "}\n"
     ]
    }
   ],
   "source": [
    "# Validate and Assert result\n",
    "\n",
    "results = validator.Expect_Column_Value_Lengths_To_Be_Between(column=\"house_rules\", min_value=0,\n",
    "    max_value=2000,\n",
    "    strict_max=True)\n",
    "print(results)\n",
    "assert results.success"
   ]
  },
  {
   "cell_type": "markdown",
   "id": "e1db4282",
   "metadata": {},
   "source": [
    "### Expectation 6 - Additional: `expect_table_column_count_to_be_between`"
   ]
  },
  {
   "cell_type": "markdown",
   "id": "ffc26066",
   "metadata": {},
   "source": [
    "The 6th expecatation is `expect_table_column_count_to_be_between` on all the column in the dataset.\n",
    "The purpose of this expectation is to ensure all our column not exceeding the the maximum that we have defined.\n",
    "\n",
    "Its important to use this if we know how many columns we will work on and to prevent un expected columns in our dataset."
   ]
  },
  {
   "cell_type": "code",
   "execution_count": 9,
   "id": "7ba181e7",
   "metadata": {},
   "outputs": [
    {
     "data": {
      "application/vnd.jupyter.widget-view+json": {
       "model_id": "ed0e4660c3884ccabc0ca9de34bb6f1b",
       "version_major": 2,
       "version_minor": 0
      },
      "text/plain": [
       "Calculating Metrics:   0%|          | 0/3 [00:00<?, ?it/s]"
      ]
     },
     "metadata": {},
     "output_type": "display_data"
    },
    {
     "name": "stdout",
     "output_type": "stream",
     "text": [
      "{\n",
      "  \"success\": true,\n",
      "  \"expectation_config\": {\n",
      "    \"expectation_type\": \"expect_table_column_count_to_be_between\",\n",
      "    \"kwargs\": {\n",
      "      \"min_value\": 1,\n",
      "      \"max_value\": 30,\n",
      "      \"batch_id\": \"default_pandas_datasource-#ephemeral_pandas_asset\"\n",
      "    },\n",
      "    \"meta\": {}\n",
      "  },\n",
      "  \"result\": {\n",
      "    \"observed_value\": 22\n",
      "  },\n",
      "  \"meta\": {},\n",
      "  \"exception_info\": {\n",
      "    \"raised_exception\": false,\n",
      "    \"exception_traceback\": null,\n",
      "    \"exception_message\": null\n",
      "  }\n",
      "}\n"
     ]
    }
   ],
   "source": [
    "# Validate and Assert result\n",
    "\n",
    "results = validator.Expect_Table_Column_Count_To_Be_Between(min_value=1,\n",
    "    max_value=30)\n",
    "print(results)\n",
    "\n",
    "assert results.success\n",
    "\n"
   ]
  },
  {
   "cell_type": "markdown",
   "id": "b6fbd5c2",
   "metadata": {},
   "source": [
    "### Expectation 7 - Additional: `expect_column_distinct_values_to_be_less_than` (`review_rate_number`)"
   ]
  },
  {
   "cell_type": "markdown",
   "id": "52547e4e",
   "metadata": {},
   "source": [
    "The last expecatation is `expect_column_distinct_values_to_be_less_than` on the column (`review_rate_number`)\n",
    "The purpose of this expectation is to ensure our `review_rate_number` is well within value set of **[1, 2, 3, 4, 5]**\n",
    "\n",
    "This will ensure all the ratings or review number are exist and no review is more than 5."
   ]
  },
  {
   "cell_type": "code",
   "execution_count": 10,
   "id": "71c5c2e9",
   "metadata": {},
   "outputs": [
    {
     "data": {
      "application/vnd.jupyter.widget-view+json": {
       "model_id": "86dd16b50b294e1b83800868f7cf69e9",
       "version_major": 2,
       "version_minor": 0
      },
      "text/plain": [
       "Calculating Metrics:   0%|          | 0/4 [00:00<?, ?it/s]"
      ]
     },
     "metadata": {},
     "output_type": "display_data"
    },
    {
     "name": "stdout",
     "output_type": "stream",
     "text": [
      "{\n",
      "  \"success\": true,\n",
      "  \"expectation_config\": {\n",
      "    \"expectation_type\": \"expect_column_distinct_values_to_contain_set\",\n",
      "    \"kwargs\": {\n",
      "      \"column\": \"review_rate_number\",\n",
      "      \"value_set\": [\n",
      "        1,\n",
      "        2,\n",
      "        3,\n",
      "        4,\n",
      "        5\n",
      "      ],\n",
      "      \"batch_id\": \"default_pandas_datasource-#ephemeral_pandas_asset\"\n",
      "    },\n",
      "    \"meta\": {}\n",
      "  },\n",
      "  \"result\": {\n",
      "    \"observed_value\": [\n",
      "      0.0,\n",
      "      1.0,\n",
      "      2.0,\n",
      "      3.0,\n",
      "      4.0,\n",
      "      5.0\n",
      "    ],\n",
      "    \"details\": {\n",
      "      \"value_counts\": [\n",
      "        {\n",
      "          \"value\": 0.0,\n",
      "          \"count\": 319\n",
      "        },\n",
      "        {\n",
      "          \"value\": 1.0,\n",
      "          \"count\": 9184\n",
      "        },\n",
      "        {\n",
      "          \"value\": 2.0,\n",
      "          \"count\": 22969\n",
      "        },\n",
      "        {\n",
      "          \"value\": 3.0,\n",
      "          \"count\": 23129\n",
      "        },\n",
      "        {\n",
      "          \"value\": 4.0,\n",
      "          \"count\": 23199\n",
      "        },\n",
      "        {\n",
      "          \"value\": 5.0,\n",
      "          \"count\": 23250\n",
      "        }\n",
      "      ]\n",
      "    }\n",
      "  },\n",
      "  \"meta\": {},\n",
      "  \"exception_info\": {\n",
      "    \"raised_exception\": false,\n",
      "    \"exception_traceback\": null,\n",
      "    \"exception_message\": null\n",
      "  }\n",
      "}\n"
     ]
    }
   ],
   "source": [
    "# # Validate and Assert result\n",
    "\n",
    "results = validator.Expect_Column_Distinct_Values_To_Contain_Set(\n",
    "    column=\"review_rate_number\",\n",
    "    value_set=[1, 2, 3, 4, 5]\n",
    ")\n",
    "print(results)\n",
    "assert results.success"
   ]
  },
  {
   "cell_type": "markdown",
   "id": "cece5f6d",
   "metadata": {},
   "source": [
    "## Conclusion"
   ]
  },
  {
   "cell_type": "markdown",
   "id": "1aa4bb25",
   "metadata": {},
   "source": [
    "By running these 7 expectations, we can verifiy our cleaned data based on our defined expectation, by doing this step we will ensure high confidence in the data cleanliness and realibility before used in the next step especially a big data. This step is crucial in a our analysis pipeline as its acts as early prevention on data errors and ensure integrity based on our criterias.\n",
    "\n",
    "The next step running this quality check is to do vizualisation and analysis using Kibana."
   ]
  }
 ],
 "metadata": {
  "kernelspec": {
   "display_name": "h8_env",
   "language": "python",
   "name": "python3"
  },
  "language_info": {
   "codemirror_mode": {
    "name": "ipython",
    "version": 3
   },
   "file_extension": ".py",
   "mimetype": "text/x-python",
   "name": "python",
   "nbconvert_exporter": "python",
   "pygments_lexer": "ipython3",
   "version": "3.9.23"
  }
 },
 "nbformat": 4,
 "nbformat_minor": 5
}
